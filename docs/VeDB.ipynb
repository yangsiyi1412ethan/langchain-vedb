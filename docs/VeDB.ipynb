{
 "cells": [
  {
   "cell_type": "raw",
   "id": "1957f5cb",
   "metadata": {},
   "source": [
    "---\n",
    "sidebar_label: VeDB\n",
    "---"
   ]
  },
  {
   "cell_type": "markdown",
   "id": "ef1f0986",
   "metadata": {},
   "source": [
    "# VeDB\n",
    "\n",
    "This notebook covers how to get started with the VeDB."
   ]
  },
  {
   "cell_type": "markdown",
   "id": "36fdc060",
   "metadata": {},
   "source": [
    "## Setup\n",
    "\n",
    "To access VeDB you'll need to create a/an ByteDance account, get an API key, and install the `langchain-vedb-link` integration package."
   ]
  },
  {
   "metadata": {},
   "cell_type": "code",
   "source": [
    "%pip install -qU \"langchain-vedb-link>=MINIMUM_VERSION\""
   ],
   "id": "136a1a8acc972a83",
   "outputs": [],
   "execution_count": null
  },
  {
   "cell_type": "markdown",
   "id": "93df377e",
   "metadata": {},
   "source": [
    "## Initialization\n",
    "\n",
    "import EmbeddingTabs from \"@theme/EmbeddingTabs\";\n",
    "\n",
    "<EmbeddingTabs/>\n"
   ]
  },
  {
   "metadata": {},
   "cell_type": "code",
   "source": [
    "from langchain_vedb.vectorstores import VeDB\n",
    "from langchain_openai import OpenAIEmbeddings\n",
    "\n",
    "embeddings = OpenAIEmbeddings(api_key=\"sk\", model=\"text-embedding-3-small\")\n",
    "\n",
    "extra_column = {\"source\": \"VARCHAR(255)\"}   # Define the field information to be added to metadata\n",
    "\n",
    "client_config = {\"host\": 'xxx.xxx.xxx.xxx',  # e.g., '192.168.1.88'\n",
    "                 \"port\": 12345,\n",
    "                 \"user\": 'vector_user',\n",
    "                 \"password\": '123456',  # Leave empty if no password was set during authorization\n",
    "                 \"database\": 'vectorStoreTest',  # Use your actual database name\n",
    "                 \"table_name\": 'langchain_vector_test',  # Set an existing table name or initialize a new one\n",
    "                 \"charset\": 'utf8mb4',\n",
    "                 \"metadata_columns\": extra_column}     # Additional metadata columns\n",
    "\n",
    "vector_store = VeDB(embeddings=embeddings, client_config=client_config)"
   ],
   "id": "9e58400c3c42bd56",
   "outputs": [],
   "execution_count": null
  },
  {
   "metadata": {},
   "cell_type": "markdown",
   "source": [
    "## Manage vector store\n",
    "\n",
    "### Add items to vector store"
   ],
   "id": "ebd41d9cd05ffca5"
  },
  {
   "metadata": {},
   "cell_type": "code",
   "source": [
    "from langchain_core.documents import Document\n",
    "\n",
    "document_1 = Document(\n",
    "    page_content=\"foo\",\n",
    "    metadata={\"source\": \"https://example.com\"}\n",
    ")\n",
    "\n",
    "document_2 = Document(\n",
    "    page_content=\"bar\",\n",
    "    metadata={\"source\": \"https://example.com\"}\n",
    ")\n",
    "\n",
    "document_3 = Document(\n",
    "    page_content=\"baz\",\n",
    "    metadata={\"source\": \"https://example.com\"}\n",
    ")\n",
    "\n",
    "documents = [document_1, document_2, document_3]\n",
    "\n",
    "vector_store.add_documents(documents=documents,ids=[\"1\",\"2\",\"3\"])"
   ],
   "id": "2bd3dce8089618b1",
   "outputs": [],
   "execution_count": null
  },
  {
   "metadata": {},
   "cell_type": "markdown",
   "source": [
    "You can also use the from_text function to directly instantiate a vector store from a document."
   ],
   "id": "dd4420c2599e0928"
  },
  {
   "metadata": {},
   "cell_type": "code",
   "source": [
    "docs = [\"foo\",\"bar\",\"bar\"]\n",
    "\n",
    "metadatas = [{\"source\": \"https://example.com\"},{\"source\": \"https://example.com\"},{\"source\": \"https://example.com\"}]\n",
    "\n",
    "vector_store = VeDB.from_texts(texts=docs, embedding=embeddings, metadatas=metadatas, client_config=client_config)"
   ],
   "id": "c50a50431586515a",
   "outputs": [],
   "execution_count": null
  },
  {
   "metadata": {},
   "cell_type": "markdown",
   "source": [
    "### Update items in vector store"
   ],
   "id": "c738c3e0"
  },
  {
   "metadata": {},
   "cell_type": "code",
   "source": [
    "updated_document_1 = Document(\n",
    "    id = \"1\", page_content=\"qux\", metadata={\"source\": \"https://another-example.com\"}\n",
    ")\n",
    "\n",
    "vector_store.update_document(document=updated_document_1)"
   ],
   "id": "b7c41387e9bc70fb",
   "outputs": [],
   "execution_count": null
  },
  {
   "metadata": {},
   "cell_type": "markdown",
   "source": [
    "### Delete items from vector store\n"
   ],
   "id": "a65f03abfa98e86f"
  },
  {
   "metadata": {},
   "cell_type": "code",
   "source": [
    "vector_store.delete(ids=[\"3\"])"
   ],
   "id": "b37d082ce153023f",
   "outputs": [],
   "execution_count": null
  },
  {
   "metadata": {},
   "cell_type": "markdown",
   "source": [
    "### Get documents by ids\n",
    "You can directly get a specific document by its ID."
   ],
   "id": "5267c28b417a81a2"
  },
  {
   "metadata": {},
   "cell_type": "code",
   "source": [
    "results = vector_store.get_by_ids([\"1\", \"2\", \"3\"])\n",
    "for doc in results:\n",
    "     print(f\"* {doc.id} {doc.page_content} [{doc.metadata}]\")"
   ],
   "id": "1c4be8905d553315",
   "outputs": [],
   "execution_count": null
  },
  {
   "metadata": {},
   "cell_type": "markdown",
   "source": [
    "## Query vector store\n",
    "\n",
    "Once your vector store has been created and the relevant documents have been added, you will most likely wish to query it during the running of your chain or agent.\n",
    "\n",
    "### Filtering Support\n",
    "\n",
    "The vectorstore supports a set of filters that can be applied against the metadata fields of the documents."
   ],
   "id": "2982405f68b08284"
  },
  {
   "metadata": {},
   "cell_type": "markdown",
   "source": [
    "| Operator   | Meaning/Category                  |\n",
    "|------------|------------------------------------|\n",
    "| `$eq`      | Equality (`==`)                    |\n",
    "| `$ne`      | Inequality (`!=`)                  |\n",
    "| `$lt`      | Less than (`<`)                    |\n",
    "| `$lte`     | Less than or equal (`<=`)          |\n",
    "| `$gt`      | Greater than (`>`)                 |\n",
    "| `$gte`     | Greater than or equal (`>=`)       |\n",
    "| `$in`      | Special Case (`in`)                |\n",
    "| `$nin`     | Special Case (`not in`)            |\n",
    "| `$between` | Special Case (`between`)           |\n",
    "| `$exists`  | Exists (`IS [NOT] NULL`)           |\n",
    "| `$and`     | Logical (`and`)                    |\n",
    "| `$or`      | Logical (`or`)                     |"
   ],
   "id": "bfbda64504f5a430"
  },
  {
   "metadata": {},
   "cell_type": "markdown",
   "source": [
    "### Query directly\n",
    "\n",
    "A simple similarity search can be performed in the following way."
   ],
   "id": "498f9531f177061e"
  },
  {
   "metadata": {},
   "cell_type": "code",
   "source": [
    "results = vector_store.similarity_search(\n",
    "    query=\"thud\", k=1, filter={\"source\": \"https://example.com\"}\n",
    ")\n",
    "for doc in results:\n",
    "    print(f\"* {doc.page_content} [{doc.metadata}]\")"
   ],
   "id": "81a30336fef3cb00",
   "outputs": [],
   "execution_count": null
  },
  {
   "metadata": {},
   "cell_type": "markdown",
   "source": [
    "You can run the following to execute a similarity search and get the corresponding scores"
   ],
   "id": "4b6040c84c17bfe7"
  },
  {
   "metadata": {},
   "cell_type": "code",
   "source": [
    "results = vector_store.similarity_search_with_score(\n",
    "    query=\"thud\", k=1, filter={\"source\": \"https://example.com\"}\n",
    ")\n",
    "for doc, score in results:\n",
    "    print(f\"* [SIM={score:3f}] {doc.page_content} [{doc.metadata}]\")"
   ],
   "id": "136c7078a8142730",
   "outputs": [],
   "execution_count": null
  },
  {
   "metadata": {},
   "cell_type": "markdown",
   "source": [
    "If you provide a dict with multiple fields, but no operators, the top level will be interpreted as a logical AND filter"
   ],
   "id": "238040ed1ea3a7ba"
  },
  {
   "metadata": {},
   "cell_type": "code",
   "source": [
    "results = vector_store.similarity_search_with_score(\n",
    "    query=\"thud\",\n",
    "    k=10,\n",
    "    filter={\"year\": {\"$in\": [2004, 2022]}, \"topic\": {\"$eq\": \"magic\"}},\n",
    ")"
   ],
   "id": "143051c721e0e25b",
   "outputs": [],
   "execution_count": null
  },
  {
   "metadata": {},
   "cell_type": "code",
   "source": [
    "results = vector_store.similarity_search_with_score(\n",
    "    query=\"thud\",\n",
    "    k=10,\n",
    "    filter={\n",
    "         \"$and\":[\n",
    "         {\"year\": {\"$in\": [2004, 2025]}},\n",
    "         {\"topic\": {\"$eq\": \"magic\"}},\n",
    "         ]\n",
    "     },\n",
    ")"
   ],
   "id": "3475b7389c688b35",
   "outputs": [],
   "execution_count": null
  },
  {
   "metadata": {},
   "cell_type": "markdown",
   "source": [
    "## Limitations\n",
    "1. We support metadata, but all possible fields that might be involved in the metadata must be defined when creating the VeDB. Once defined, adding extra fields dynamically is not supported.\n",
    "2. The SQL WHERE clause does not support filtering JSON data.\n",
    "3. After adding documents, the system builds the ANN index asynchronously in the background. Therefore, you need to wait a short period between adding documents and performing similarity searches.\n",
    "You can use sleep to pause for a while. To prevent potential crashes, you can run the following between adding documents and performing a similarity search."
   ],
   "id": "d5be62f5f2685542"
  },
  {
   "metadata": {},
   "cell_type": "code",
   "source": [
    "vector_store.close()"
   ],
   "id": "6de095f4f6cffd20",
   "outputs": [],
   "execution_count": null
  },
  {
   "cell_type": "markdown",
   "id": "901c75dc",
   "metadata": {},
   "source": [
    "## Usage for retrieval-augmented generation\n",
    "\n",
    "For guides on how to use this vector store for retrieval-augmented generation (RAG), see the following sections:\n",
    "\n",
    "- [Tutorials](/docs/tutorials/)\n",
    "- [How-to: Question and answer with RAG](https://python.langchain.com/docs/how_to/#qa-with-rag)\n",
    "- [Retrieval conceptual docs](https://python.langchain.com/docs/concepts/retrieval/)"
   ]
  },
  {
   "cell_type": "markdown",
   "id": "8a27244f",
   "metadata": {},
   "source": [
    "---\n",
    "# ❗️Needs to be modified\n",
    "## API reference\n",
    "\n",
    "For detailed documentation of all ByteDanceVectorStore features and configurations head to the API reference: https://api.python.langchain.com/en/latest/vectorstores/langchain_vedb_link.vectorstores.VeDB.html"
   ]
  }
 ],
 "metadata": {
  "kernelspec": {
   "display_name": "Python 3 (ipykernel)",
   "language": "python",
   "name": "python3"
  },
  "language_info": {
   "codemirror_mode": {
    "name": "ipython",
    "version": 3
   },
   "file_extension": ".py",
   "mimetype": "text/x-python",
   "name": "python",
   "nbconvert_exporter": "python",
   "pygments_lexer": "ipython3",
   "version": "3.10.12"
  }
 },
 "nbformat": 4,
 "nbformat_minor": 5
}
